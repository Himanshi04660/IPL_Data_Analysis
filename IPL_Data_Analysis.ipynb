{
  "nbformat": 4,
  "nbformat_minor": 0,
  "metadata": {
    "colab": {
      "provenance": []
    },
    "kernelspec": {
      "name": "python3",
      "display_name": "Python 3"
    },
    "language_info": {
      "name": "python"
    }
  },
  "cells": [
    {
      "cell_type": "code",
      "source": [
        "import pandas as pd\n",
        "import plotly.express as px\n",
        "import dash\n",
        "from dash import dcc, html\n",
        "from dash.dependencies import Input, Output\n",
        "\n",
        "# Load IPL dataset\n",
        "df = pd.read_csv('match_data.csv')\n",
        "\n",
        "# Data Preprocessing\n",
        "df['season'] = df['season'].astype(str)\n",
        "\n",
        "# Initialize Dash app\n",
        "app = dash.Dash(__name__)\n",
        "\n",
        "# App Layout\n",
        "app.layout = html.Div([\n",
        "    html.H1(\"IPL Data Analysis & Dashboard\", style={'textAlign': 'center'}),\n",
        "\n",
        "    # Dropdown for Season Selection\n",
        "    dcc.Dropdown(\n",
        "        id='season-dropdown',\n",
        "        options=[{'label': str(season), 'value': season} for season in sorted(df['season'].unique())],\n",
        "        value=df['season'].max(),\n",
        "        placeholder=\"Select a Season\"\n",
        "    ),\n",
        "\n",
        "    # Graphs\n",
        "    dcc.Graph(id='match-performance'),\n",
        "    dcc.Graph(id='player-stats'),\n",
        "    dcc.Graph(id='venue-impact'),\n",
        "    dcc.Graph(id='head-to-head'),\n",
        "])\n",
        "\n",
        "# Callbacks for Interactive Updates\n",
        "@app.callback(\n",
        "    [Output('match-performance', 'figure'),\n",
        "     Output('player-stats', 'figure'),\n",
        "     Output('venue-impact', 'figure'),\n",
        "     Output('head-to-head', 'figure')],\n",
        "    [Input('season-dropdown', 'value')]\n",
        ")\n",
        "def update_graphs(selected_season):\n",
        "    # Filter data by selected season\n",
        "    filtered_df = df[df['season'] == selected_season]\n",
        "\n",
        "    # Match Performance Analysis\n",
        "    match_fig = px.bar(filtered_df, x='batting_team', y='runs_off_bat', color='bowling_team',\n",
        "                        title='Match & Team Performance Analysis')\n",
        "\n",
        "    # Player Statistics & Rankings\n",
        "    player_fig = px.scatter(filtered_df, x='striker', y='runs_off_bat', color='batting_team',\n",
        "                             title='Player Statistics & Rankings')\n",
        "\n",
        "    # Venue & Toss Impact Study\n",
        "    venue_fig = px.bar(filtered_df, x='venue', y='runs_off_bat', color='batting_team',\n",
        "                        title='Venue & Toss Impact Study')\n",
        "\n",
        "    # Head-to-Head Comparisons\n",
        "    head_to_head_fig = px.line(filtered_df, x='batting_team', y='runs_off_bat', color='bowling_team',\n",
        "                                title='Head-to-Head Comparisons')\n",
        "\n",
        "    return match_fig, player_fig, venue_fig, head_to_head_fig\n",
        "\n",
        "# Run the Dash app\n",
        "if __name__ == '__main__':\n",
        "    app.run_server(debug=True)\n"
      ],
      "metadata": {
        "colab": {
          "base_uri": "https://localhost:8080/",
          "height": 706
        },
        "id": "L2KqBJfTjYdF",
        "outputId": "20c12630-f072-4a8b-905d-baf40ff1bcea"
      },
      "execution_count": 6,
      "outputs": [
        {
          "output_type": "stream",
          "name": "stderr",
          "text": [
            "<ipython-input-6-f20bcfa2cde7>:8: DtypeWarning: Columns (1) have mixed types. Specify dtype option on import or set low_memory=False.\n",
            "  df = pd.read_csv('match_data.csv')\n"
          ]
        },
        {
          "output_type": "display_data",
          "data": {
            "text/plain": [
              "<IPython.core.display.Javascript object>"
            ],
            "application/javascript": [
              "(async (port, path, width, height, cache, element) => {\n",
              "    if (!google.colab.kernel.accessAllowed && !cache) {\n",
              "      return;\n",
              "    }\n",
              "    element.appendChild(document.createTextNode(''));\n",
              "    const url = await google.colab.kernel.proxyPort(port, {cache});\n",
              "    const iframe = document.createElement('iframe');\n",
              "    iframe.src = new URL(path, url).toString();\n",
              "    iframe.height = height;\n",
              "    iframe.width = width;\n",
              "    iframe.style.border = 0;\n",
              "    iframe.allow = [\n",
              "        'accelerometer',\n",
              "        'autoplay',\n",
              "        'camera',\n",
              "        'clipboard-read',\n",
              "        'clipboard-write',\n",
              "        'gyroscope',\n",
              "        'magnetometer',\n",
              "        'microphone',\n",
              "        'serial',\n",
              "        'usb',\n",
              "        'xr-spatial-tracking',\n",
              "    ].join('; ');\n",
              "    element.appendChild(iframe);\n",
              "  })(8050, \"/\", \"100%\", 650, false, window.element)"
            ]
          },
          "metadata": {}
        }
      ]
    }
  ]
}